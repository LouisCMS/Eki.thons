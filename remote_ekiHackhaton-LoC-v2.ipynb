{
  "nbformat": 4,
  "nbformat_minor": 0,
  "metadata": {
    "colab": {
      "name": "remote_ekiHackhaton.ipynb",
      "provenance": [],
      "toc_visible": true,
      "include_colab_link": true
    },
    "kernelspec": {
      "name": "python3",
      "display_name": "Python 3"
    },
    "widgets": {
      "application/vnd.jupyter.widget-state+json": {
        "1caceb19e62e486ba9fab259196ce2f3": {
          "model_module": "@jupyter-widgets/controls",
          "model_name": "HBoxModel",
          "state": {
            "_view_name": "HBoxView",
            "_dom_classes": [],
            "_model_name": "HBoxModel",
            "_view_module": "@jupyter-widgets/controls",
            "_model_module_version": "1.5.0",
            "_view_count": null,
            "_view_module_version": "1.5.0",
            "box_style": "",
            "layout": "IPY_MODEL_c47463767f1147569f5d62ef301eb375",
            "_model_module": "@jupyter-widgets/controls",
            "children": [
              "IPY_MODEL_ab7f755e47684bcc961a64e45597d145",
              "IPY_MODEL_3b4e23bb184f4e44a9d4304df2c71728"
            ]
          }
        },
        "c47463767f1147569f5d62ef301eb375": {
          "model_module": "@jupyter-widgets/base",
          "model_name": "LayoutModel",
          "state": {
            "_view_name": "LayoutView",
            "grid_template_rows": null,
            "right": null,
            "justify_content": null,
            "_view_module": "@jupyter-widgets/base",
            "overflow": null,
            "_model_module_version": "1.2.0",
            "_view_count": null,
            "flex_flow": null,
            "width": null,
            "min_width": null,
            "border": null,
            "align_items": null,
            "bottom": null,
            "_model_module": "@jupyter-widgets/base",
            "top": null,
            "grid_column": null,
            "overflow_y": null,
            "overflow_x": null,
            "grid_auto_flow": null,
            "grid_area": null,
            "grid_template_columns": null,
            "flex": null,
            "_model_name": "LayoutModel",
            "justify_items": null,
            "grid_row": null,
            "max_height": null,
            "align_content": null,
            "visibility": null,
            "align_self": null,
            "height": null,
            "min_height": null,
            "padding": null,
            "grid_auto_rows": null,
            "grid_gap": null,
            "max_width": null,
            "order": null,
            "_view_module_version": "1.2.0",
            "grid_template_areas": null,
            "object_position": null,
            "object_fit": null,
            "grid_auto_columns": null,
            "margin": null,
            "display": null,
            "left": null
          }
        },
        "ab7f755e47684bcc961a64e45597d145": {
          "model_module": "@jupyter-widgets/controls",
          "model_name": "IntProgressModel",
          "state": {
            "_view_name": "ProgressView",
            "style": "IPY_MODEL_0481358114664167ae3c9ccc427bfee3",
            "_dom_classes": [],
            "description": "",
            "_model_name": "IntProgressModel",
            "bar_style": "info",
            "max": 1,
            "_view_module": "@jupyter-widgets/controls",
            "_model_module_version": "1.5.0",
            "value": 1,
            "_view_count": null,
            "_view_module_version": "1.5.0",
            "orientation": "horizontal",
            "min": 0,
            "description_tooltip": null,
            "_model_module": "@jupyter-widgets/controls",
            "layout": "IPY_MODEL_d2b17fa01a6342ff9f0efa4005dace86"
          }
        },
        "3b4e23bb184f4e44a9d4304df2c71728": {
          "model_module": "@jupyter-widgets/controls",
          "model_name": "HTMLModel",
          "state": {
            "_view_name": "HTMLView",
            "style": "IPY_MODEL_72943331766745d7916811c2a48e224c",
            "_dom_classes": [],
            "description": "",
            "_model_name": "HTMLModel",
            "placeholder": "​",
            "_view_module": "@jupyter-widgets/controls",
            "_model_module_version": "1.5.0",
            "value": " 170500096/? [00:29&lt;00:00, 16622440.56it/s]",
            "_view_count": null,
            "_view_module_version": "1.5.0",
            "description_tooltip": null,
            "_model_module": "@jupyter-widgets/controls",
            "layout": "IPY_MODEL_ba171def49d843d0b67470e0ec71fb12"
          }
        },
        "0481358114664167ae3c9ccc427bfee3": {
          "model_module": "@jupyter-widgets/controls",
          "model_name": "ProgressStyleModel",
          "state": {
            "_view_name": "StyleView",
            "_model_name": "ProgressStyleModel",
            "description_width": "initial",
            "_view_module": "@jupyter-widgets/base",
            "_model_module_version": "1.5.0",
            "_view_count": null,
            "_view_module_version": "1.2.0",
            "bar_color": null,
            "_model_module": "@jupyter-widgets/controls"
          }
        },
        "d2b17fa01a6342ff9f0efa4005dace86": {
          "model_module": "@jupyter-widgets/base",
          "model_name": "LayoutModel",
          "state": {
            "_view_name": "LayoutView",
            "grid_template_rows": null,
            "right": null,
            "justify_content": null,
            "_view_module": "@jupyter-widgets/base",
            "overflow": null,
            "_model_module_version": "1.2.0",
            "_view_count": null,
            "flex_flow": null,
            "width": null,
            "min_width": null,
            "border": null,
            "align_items": null,
            "bottom": null,
            "_model_module": "@jupyter-widgets/base",
            "top": null,
            "grid_column": null,
            "overflow_y": null,
            "overflow_x": null,
            "grid_auto_flow": null,
            "grid_area": null,
            "grid_template_columns": null,
            "flex": null,
            "_model_name": "LayoutModel",
            "justify_items": null,
            "grid_row": null,
            "max_height": null,
            "align_content": null,
            "visibility": null,
            "align_self": null,
            "height": null,
            "min_height": null,
            "padding": null,
            "grid_auto_rows": null,
            "grid_gap": null,
            "max_width": null,
            "order": null,
            "_view_module_version": "1.2.0",
            "grid_template_areas": null,
            "object_position": null,
            "object_fit": null,
            "grid_auto_columns": null,
            "margin": null,
            "display": null,
            "left": null
          }
        },
        "72943331766745d7916811c2a48e224c": {
          "model_module": "@jupyter-widgets/controls",
          "model_name": "DescriptionStyleModel",
          "state": {
            "_view_name": "StyleView",
            "_model_name": "DescriptionStyleModel",
            "description_width": "",
            "_view_module": "@jupyter-widgets/base",
            "_model_module_version": "1.5.0",
            "_view_count": null,
            "_view_module_version": "1.2.0",
            "_model_module": "@jupyter-widgets/controls"
          }
        },
        "ba171def49d843d0b67470e0ec71fb12": {
          "model_module": "@jupyter-widgets/base",
          "model_name": "LayoutModel",
          "state": {
            "_view_name": "LayoutView",
            "grid_template_rows": null,
            "right": null,
            "justify_content": null,
            "_view_module": "@jupyter-widgets/base",
            "overflow": null,
            "_model_module_version": "1.2.0",
            "_view_count": null,
            "flex_flow": null,
            "width": null,
            "min_width": null,
            "border": null,
            "align_items": null,
            "bottom": null,
            "_model_module": "@jupyter-widgets/base",
            "top": null,
            "grid_column": null,
            "overflow_y": null,
            "overflow_x": null,
            "grid_auto_flow": null,
            "grid_area": null,
            "grid_template_columns": null,
            "flex": null,
            "_model_name": "LayoutModel",
            "justify_items": null,
            "grid_row": null,
            "max_height": null,
            "align_content": null,
            "visibility": null,
            "align_self": null,
            "height": null,
            "min_height": null,
            "padding": null,
            "grid_auto_rows": null,
            "grid_gap": null,
            "max_width": null,
            "order": null,
            "_view_module_version": "1.2.0",
            "grid_template_areas": null,
            "object_position": null,
            "object_fit": null,
            "grid_auto_columns": null,
            "margin": null,
            "display": null,
            "left": null
          }
        }
      }
    }
  },
  "cells": [
    {
      "cell_type": "markdown",
      "metadata": {
        "id": "view-in-github",
        "colab_type": "text"
      },
      "source": [
        "<a href=\"https://colab.research.google.com/github/LouisCMS/Eki.thons/blob/master/remote_ekiHackhaton-LoC-v2.ipynb\" target=\"_parent\"><img src=\"https://colab.research.google.com/assets/colab-badge.svg\" alt=\"Open In Colab\"/></a>"
      ]
    },
    {
      "cell_type": "markdown",
      "metadata": {
        "id": "ScVmE2VcrcBn",
        "colab_type": "text"
      },
      "source": [
        "#Introduction\n",
        "Welcome to the first remote Eki hackaton. The aim of the hackaton is to build your first neural network and a learning scheme in a efficient way.The task is image classification on CIFAR10\n",
        "\n",
        "**************\n",
        "The code contains :\n",
        "\n",
        "1. Load and normalizing the CIFAR10 training and test datasets using\n",
        "   ``torchvision``\n",
        "2. Define a Convolutional Neural Network\n",
        "3. Define a loss function\n",
        "4. Train the network on the training data\n",
        "5. Test the network on the test data\n",
        "\n",
        "**************\n",
        "Some **questions** too keep in mind :\n",
        "\n",
        "    - which kind of data transformation and augmentation?\n",
        "    - How building my neural network?\n",
        "    - which kind of optimization?\n",
        "\n",
        "Some tips here :) : [ML Lunch](https://bizoffice61.sharepoint.com/:p:/r/sites/Ekimetrics51/_layouts/15/Doc.aspx?sourcedoc=%7BA44BD8EB-39E2-4113-9861-A817680A7F55%7D&file=20200304%20-%20ML%20Lunch%20-%20Understanding%20Deep%20Learning.pptx&action=edit&mobileredirect=true)\n",
        "\n",
        "**************\n",
        "How to win?\n",
        "\n",
        "The winner will propose a script which:\n",
        "\n",
        "reachs at least 60% of accuracy on the dataset\n",
        "builds a network with a minimum number of parameters.\n",
        "Example :\n",
        "\n",
        "People 1 : Accuracy : 58%, number of parameter : 10K\n",
        "\n",
        "People 2 : Accuracy : 61%, number of parameters : 15K\n",
        "\n",
        "People 3: Accuracy : 67%, number of paremeters : 16K\n",
        "\n",
        "People 2 wins !"
      ]
    },
    {
      "cell_type": "markdown",
      "metadata": {
        "id": "nzpZHfSepk12",
        "colab_type": "text"
      },
      "source": [
        "#Import all the libraries"
      ]
    },
    {
      "cell_type": "code",
      "metadata": {
        "id": "yyKYHGjTrBec",
        "colab_type": "code",
        "colab": {}
      },
      "source": [
        "import torch\n",
        "import torchvision\n",
        "import torchvision.transforms as transforms\n",
        "import matplotlib.pyplot as plt\n",
        "import numpy as np\n",
        "import torch.nn as nn\n",
        "import torch.nn.functional as F\n",
        "import torch.optim as optim\n",
        "import requests\n",
        "\n",
        "# Put the token you received in a mail here ! \n",
        "token = ''"
      ],
      "execution_count": 0,
      "outputs": []
    },
    {
      "cell_type": "markdown",
      "metadata": {
        "id": "wuxlxnRsqedU",
        "colab_type": "text"
      },
      "source": [
        "\n",
        "\n",
        "---\n",
        "\n"
      ]
    },
    {
      "cell_type": "markdown",
      "metadata": {
        "id": "Jw1NDFrosjX6",
        "colab_type": "text"
      },
      "source": [
        "# Load and normalizing the CIFAR10 training and test datasets using ``torchvision``"
      ]
    },
    {
      "cell_type": "code",
      "metadata": {
        "id": "nm4gnJAurikT",
        "colab_type": "code",
        "outputId": "57c200d0-bb14-45ea-dd2c-be23815648f4",
        "colab": {
          "base_uri": "https://localhost:8080/",
          "height": 100,
          "referenced_widgets": [
            "1caceb19e62e486ba9fab259196ce2f3",
            "c47463767f1147569f5d62ef301eb375",
            "ab7f755e47684bcc961a64e45597d145",
            "3b4e23bb184f4e44a9d4304df2c71728",
            "0481358114664167ae3c9ccc427bfee3",
            "d2b17fa01a6342ff9f0efa4005dace86",
            "72943331766745d7916811c2a48e224c",
            "ba171def49d843d0b67470e0ec71fb12"
          ]
        }
      },
      "source": [
        "########################################################################\n",
        "# The output of torchvision datasets are PILImage images of range [0, 1].\n",
        "# We transform them to Tensors of normalized range [-1, 1].\n",
        "\n",
        "transform = transforms.Compose(\n",
        "     [transforms.ToTensor(),\n",
        "     transforms.Normalize((0.5, 0.5, 0.5), (0.5, 0.5, 0.5))])\n",
        "\n",
        "trainset = torchvision.datasets.CIFAR10(root='./data', train=True,\n",
        "                                        download=True, transform=transform)\n",
        "trainloader = torch.utils.data.DataLoader(trainset, batch_size=4,\n",
        "                                          shuffle=True, num_workers=0)\n",
        "\n",
        "testset = torchvision.datasets.CIFAR10(root='./data', train=False,\n",
        "                                       download=True, transform=transform)\n",
        "testloader = torch.utils.data.DataLoader(testset, batch_size=4,\n",
        "                                         shuffle=False, num_workers=0)\n",
        "\n",
        "classes = ('plane', 'car', 'bird', 'cat',\n",
        "           'deer', 'dog', 'frog', 'horse', 'ship', 'truck')\n",
        "\n"
      ],
      "execution_count": 0,
      "outputs": [
        {
          "output_type": "stream",
          "text": [
            "Downloading https://www.cs.toronto.edu/~kriz/cifar-10-python.tar.gz to ./data/cifar-10-python.tar.gz\n"
          ],
          "name": "stdout"
        },
        {
          "output_type": "display_data",
          "data": {
            "application/vnd.jupyter.widget-view+json": {
              "model_id": "1caceb19e62e486ba9fab259196ce2f3",
              "version_minor": 0,
              "version_major": 2
            },
            "text/plain": [
              "HBox(children=(IntProgress(value=1, bar_style='info', max=1), HTML(value='')))"
            ]
          },
          "metadata": {
            "tags": []
          }
        },
        {
          "output_type": "stream",
          "text": [
            "Extracting ./data/cifar-10-python.tar.gz to ./data\n",
            "Files already downloaded and verified\n"
          ],
          "name": "stdout"
        }
      ]
    },
    {
      "cell_type": "markdown",
      "metadata": {
        "id": "tvOKSCLssj51",
        "colab_type": "text"
      },
      "source": [
        "#Define a Convolutional Neural Network \n"
      ]
    },
    {
      "cell_type": "code",
      "metadata": {
        "id": "fw_c1dJ-q6PT",
        "colab_type": "code",
        "colab": {}
      },
      "source": [
        "class Net(nn.Module):\n",
        "    def __init__(self):\n",
        "        \"\"\"\n",
        "        This is your network. Here you will define all the layers of the network.\n",
        "        In this example : conv1: first convolutional layer.\n",
        "                        pool : the pooling function you want to use (you can use several pooling functions)\n",
        "                        fc1 : the first fully connected layer.\n",
        "        \"\"\"\n",
        "        super(Net, self).__init__()\n",
        "        self.conv1 = nn.Conv2d(3, 6, 5)\n",
        "        self.pool = nn.MaxPool2d(2, 2)\n",
        "        self.fc1 = nn.Linear(1176, 10)\n",
        "\n",
        "    def forward(self, x):\n",
        "        '''\n",
        "        make the forward computation \n",
        "        x : the normalised data (this is a batch of images, ie a 4D tensor)\n",
        "        '''\n",
        "        # first layer : convolution then relu then pooling function\n",
        "        x = self.pool(F.relu(self.conv1(x)))\n",
        "        # flatten the matrix before passing into the first fc layer\n",
        "        x = x.view(-1, 6 * 14 * 14)\n",
        "        # second layer : fc then relu\n",
        "        x = F.relu(self.fc1(x))\n",
        "        return x\n",
        "\n",
        "net = Net()\n",
        "\n",
        "def count_parameters(model):\n",
        "  '''\n",
        "  counts the number of parameters in yout model. Please do not touch to this function\n",
        "  '''\n",
        "  return sum(p.numel() for p in model.parameters() if p.requires_grad)\n"
      ],
      "execution_count": 0,
      "outputs": []
    },
    {
      "cell_type": "markdown",
      "metadata": {
        "id": "Fz0jFpkSrKfN",
        "colab_type": "text"
      },
      "source": [
        "# Define a Loss function and optimizer"
      ]
    },
    {
      "cell_type": "code",
      "metadata": {
        "id": "QLYbIlngsAQb",
        "colab_type": "code",
        "colab": {}
      },
      "source": [
        "criterion = nn.CrossEntropyLoss()\n",
        "optimizer = optim.SGD(net.parameters(), lr=0.1)"
      ],
      "execution_count": 0,
      "outputs": []
    },
    {
      "cell_type": "markdown",
      "metadata": {
        "id": "lzBhJMqRsEmT",
        "colab_type": "text"
      },
      "source": [
        "#Train the network"
      ]
    },
    {
      "cell_type": "code",
      "metadata": {
        "id": "2lCz447zsKgS",
        "colab_type": "code",
        "colab": {}
      },
      "source": [
        "nepochs = 1\n",
        "\n",
        "for epoch in range(nepochs):  # loop over the dataset multiple times\n",
        "\n",
        "    running_loss = 0.0\n",
        "    for i, data in enumerate(trainloader, 0):\n",
        "        # get the inputs; data is a list of [inputs, labels]\n",
        "        inputs, labels = data\n",
        "\n",
        "        # zero the parameter gradients\n",
        "        optimizer.zero_grad()\n",
        "\n",
        "        # forward + backward + optimize\n",
        "        outputs = net(inputs)\n",
        "        loss = criterion(outputs, labels)\n",
        "        loss.backward()\n",
        "        optimizer.step()\n",
        "\n",
        "        # print statistics\n",
        "        running_loss += loss.item()\n",
        "        if i % 2000 == 1999:    # print every 2000 mini-batches\n",
        "            print('[%d, %5d] loss: %.3f' %\n",
        "                  (epoch + 1, i + 1, running_loss / 2000))\n",
        "            running_loss = 0.0\n",
        "\n",
        "print('Finished Training')"
      ],
      "execution_count": 0,
      "outputs": []
    },
    {
      "cell_type": "markdown",
      "metadata": {
        "id": "L3m7OkcesNUj",
        "colab_type": "text"
      },
      "source": [
        "#Test the network on the test data : DO NOT TOUCH THIS PART\n",
        "\n",
        "---\n",
        "\n",
        "Your trained network is tested and the result is sent to the eki platform : \n",
        "http://eki-hackathon.herokuapp.com/\n",
        "\n"
      ]
    },
    {
      "cell_type": "code",
      "metadata": {
        "id": "NT1bFBFesQz7",
        "colab_type": "code",
        "colab": {}
      },
      "source": [
        "correct = 0\n",
        "total = 0\n",
        "with torch.no_grad():\n",
        "    for data in testloader:\n",
        "        images, labels = data\n",
        "        outputs = net(images)\n",
        "        _, predicted = torch.max(outputs.data, 1)\n",
        "        total += labels.size(0)\n",
        "        correct += (predicted == labels).sum().item()\n",
        "\n",
        "accuracy = 100 * correct / total\n",
        "trainable_parameters = count_parameters(net)\n",
        "print('Accuracy of the network on the 10000 test images: %d %%' % (\n",
        "    accuracy))\n",
        "\n",
        "print(\"number of trainable parameters : %d\"%trainable_parameters)\n",
        "\n",
        "score = accuracy if accuracy <= 60. else 60. + 40 * np.tanh(10000/trainable_parameters)\n",
        "print(score)\n",
        "\n",
        "requests.put(\n",
        "  'http://eki-hackathon.herokuapp.com/submitScoreAndMetrics', \n",
        "  json={\n",
        "    'id': token,\n",
        "    'score': score,\n",
        "    'metrics': {\"trainable parameters\": trainable_parameters,\n",
        "                \"accuracy\" : accuracy}\n",
        "  })\n",
        "\n"
      ],
      "execution_count": 0,
      "outputs": []
    }
  ]
}